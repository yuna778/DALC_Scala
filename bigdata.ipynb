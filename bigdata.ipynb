{
  "nbformat": 4,
  "nbformat_minor": 0,
  "metadata": {
    "colab": {
      "name": "bigdata.ipynb",
      "provenance": [],
      "collapsed_sections": [],
      "authorship_tag": "ABX9TyN9/tY8jqOHEfM4Gx6IrPcG",
      "include_colab_link": true
    },
    "kernelspec": {
      "name": "python3",
      "display_name": "Python 3"
    },
    "language_info": {
      "name": "python"
    }
  },
  "cells": [
    {
      "cell_type": "markdown",
      "metadata": {
        "id": "view-in-github",
        "colab_type": "text"
      },
      "source": [
        "<a href=\"https://colab.research.google.com/github/yuna778/DALC_Scala/blob/main/bigdata.ipynb\" target=\"_parent\"><img src=\"https://colab.research.google.com/assets/colab-badge.svg\" alt=\"Open In Colab\"/></a>"
      ]
    },
    {
      "cell_type": "markdown",
      "metadata": {
        "id": "jxVn0cUpqOEA"
      },
      "source": [
        "### 1. 분류 분석의 개념\n",
        "</br>\n",
        "\n",
        "##### 1) 데이터의 특징과 레이블\n",
        "[ __지도학습__ ]\n",
        "+ 데이터의 특징과 레이블 사이의 관계 모델링\n",
        "\n",
        "기온      | 습도     | 불쾌도\n",
        "----------|----------|----------\n",
        "20        | 60       | 쾌적\n",
        "30        | 80       | 불쾌\n",
        "30        | 70       | 불쾌\n",
        "35        | 75       | ?\n",
        "\n",
        "+ 연속적인 숫자가 아니라 등급으로 표현 = __이산적인 범주형 레이블__\n",
        "  + 데이터에 따라 등급의 숫자는 달라질 수 있음\n",
        "  + 연속적인 데이터일지라도 특정값을 기준으로 몇 개의 구간으로 구분하면 범주형 레이블로 취급\n",
        "</br></br>\n",
        "\n",
        "[ __분류 분석__ ]\n",
        "+ 레이블을 범주, 클래스 등이 이산적인 데이터일 경우 데이터 세트의 특징 배열 데이터를 학습하여 어떤 레이블에 해당하는지 분류하는 모델을 찾는 기법\n",
        "</br></br>\n",
        "\n",
        "[ __이산적인 레이블 예측하기__ ]\n",
        "\n",
        "+ 그림으로 표현된 데이터 : 특징 배열이 2차원  \n",
        "→ 각 데이터를 나타내는 표본의 특징 배열의 값을 2차원 좌표평면 위에 표시 가능\n",
        "+ x축 : 기온 / y축 : 습도\n",
        "+ 점의 색상 : 데이터의 레이블\n",
        "+ 파란색 : 쾌적 / 빨간색 : 불쾌\n",
        "\n",
        "→ 레이블이 없다고 가정, 기존에 조사한 데이터를 사용해서 새로운 데이터의 레이블을 결정하는 모델을 만들 수 있다면?  \n",
        "→ 훨씬 경제적이고 편리 = __분류 분석의 개념__\n",
        "</br></br>\n",
        "\n",
        "##### 2) 분류\n",
        "[ __모델과 모수__ ]\n",
        "\n",
        "![모델과 모수](https://github.com/seoy9/DALC_Scala/blob/a82dae8c73811aa0563b8c225335c9fb2f881ebc/%EB%AA%A8%EB%8D%B8%EA%B3%BC%20%EB%AA%A8%EC%88%98.JPG?raw=true)\n",
        "\n",
        "+ 하나의 직선이 레이블의 클래스를 구분\n",
        "+ 분류 모델의 정확도는 직선이 어느 위치, 어느 방향에서 그려지는가에 따라 달라짐\n",
        "+ 모델의 모수 : 직선의 위치와 방향을 설명할 수 있는 특정 숫자\n",
        "+ 모수를 찾는 과정 : 적합(fitting)\n",
        "</br></br>\n",
        "\n",
        "[ __모델 적용__ ]\n",
        "+ 학습한 모델을 이용하여 레이블이 없는 새 데이터를 분류하는 것\n",
        "\n",
        "![모델 적용](https://github.com/seoy9/DALC_Scala/blob/43dcad477b151de887f347e77cba1f9180f4c562/%EB%AA%A8%EB%8D%B8%20%EC%A0%81%EC%9A%A9.JPG?raw=true)\n",
        "\n",
        "+ 레이블이 없는 데이터가 주워졌을 때, 모델에서 학습한 직선을 그린 다음 데이터들을 빨간색 또는 파란색 레이블로 분류  \n",
        "→ 예측(predicition)\n",
        "+ 더 큰 차원, 더 큰 데이터 세트로 확장 가능\n",
        "+ 분류 분석은 머신러닝에서 유용한 도구 중 하나\n",
        "</br></br>\n",
        "\n",
        "### 2. 분류 분석의 절차\n",
        "</br>\n",
        "\n",
        "##### 1) Scikit Learn API 사용 단계\n",
        "1. Scikit Learn API에서 적절한 추정기 클래스를 임포트 해서 사용하고자 하는 모델을 선택\n",
        "2. 클래스로부터 인스턴스를 생성하고 초모수(Hyper-parameter)를 설정\n",
        "3. 데이터를 특징 배열과 대상 배열로 준비\n",
        "4. 모델 인스턴스의 fit() 메소드를 호출해서 데이터를 학습\n",
        "</br></br>\n",
        "\n",
        "##### 2) 분류 분석의 예제\n",
        "[ __붓꽃 데이터__ ]\n"
      ]
    },
    {
      "cell_type": "code",
      "metadata": {
        "colab": {
          "base_uri": "https://localhost:8080/",
          "height": 171
        },
        "id": "3-mE2bpjqBIh",
        "outputId": "2778fe8b-4566-4c49-9eab-95213e638167"
      },
      "source": [
        "import seaborn as sns\n",
        "\n",
        "iris = sns.load_dataset('iris')\n",
        "iris.head(4)"
      ],
      "execution_count": 1,
      "outputs": [
        {
          "output_type": "execute_result",
          "data": {
            "text/html": [
              "<div>\n",
              "<style scoped>\n",
              "    .dataframe tbody tr th:only-of-type {\n",
              "        vertical-align: middle;\n",
              "    }\n",
              "\n",
              "    .dataframe tbody tr th {\n",
              "        vertical-align: top;\n",
              "    }\n",
              "\n",
              "    .dataframe thead th {\n",
              "        text-align: right;\n",
              "    }\n",
              "</style>\n",
              "<table border=\"1\" class=\"dataframe\">\n",
              "  <thead>\n",
              "    <tr style=\"text-align: right;\">\n",
              "      <th></th>\n",
              "      <th>sepal_length</th>\n",
              "      <th>sepal_width</th>\n",
              "      <th>petal_length</th>\n",
              "      <th>petal_width</th>\n",
              "      <th>species</th>\n",
              "    </tr>\n",
              "  </thead>\n",
              "  <tbody>\n",
              "    <tr>\n",
              "      <th>0</th>\n",
              "      <td>5.1</td>\n",
              "      <td>3.5</td>\n",
              "      <td>1.4</td>\n",
              "      <td>0.2</td>\n",
              "      <td>setosa</td>\n",
              "    </tr>\n",
              "    <tr>\n",
              "      <th>1</th>\n",
              "      <td>4.9</td>\n",
              "      <td>3.0</td>\n",
              "      <td>1.4</td>\n",
              "      <td>0.2</td>\n",
              "      <td>setosa</td>\n",
              "    </tr>\n",
              "    <tr>\n",
              "      <th>2</th>\n",
              "      <td>4.7</td>\n",
              "      <td>3.2</td>\n",
              "      <td>1.3</td>\n",
              "      <td>0.2</td>\n",
              "      <td>setosa</td>\n",
              "    </tr>\n",
              "    <tr>\n",
              "      <th>3</th>\n",
              "      <td>4.6</td>\n",
              "      <td>3.1</td>\n",
              "      <td>1.5</td>\n",
              "      <td>0.2</td>\n",
              "      <td>setosa</td>\n",
              "    </tr>\n",
              "  </tbody>\n",
              "</table>\n",
              "</div>"
            ],
            "text/plain": [
              "   sepal_length  sepal_width  petal_length  petal_width species\n",
              "0           5.1          3.5           1.4          0.2  setosa\n",
              "1           4.9          3.0           1.4          0.2  setosa\n",
              "2           4.7          3.2           1.3          0.2  setosa\n",
              "3           4.6          3.1           1.5          0.2  setosa"
            ]
          },
          "metadata": {
            "tags": []
          },
          "execution_count": 1
        }
      ]
    },
    {
      "cell_type": "markdown",
      "metadata": {
        "id": "7AXesCqpqDwK"
      },
      "source": [
        "+ 붓꽃의 외형 데이터로부터 붓꽃의 품종을 예측하는 모델  \n",
        "</br></br>\n",
        "\n",
        "[ __모델 클래스 선택__ ]"
      ]
    },
    {
      "cell_type": "code",
      "metadata": {
        "id": "Ymwh3N-2qEmg"
      },
      "source": [
        "from sklearn.naive_bayes import GaussianNB"
      ],
      "execution_count": 5,
      "outputs": []
    },
    {
      "cell_type": "markdown",
      "metadata": {
        "id": "xZjSnYQIqIA5"
      },
      "source": [
        "+ GaussianNB : 가우스 나이브 베이즈 생성 모델\n",
        "  + 처리 속도가 빠르고 초모수를 선택할 필요가 없기 때문에 기본 분류기로 사용하기에 적합\n",
        "</br></br>\n",
        "\n",
        "[ __모델 인스턴스화__ ]"
      ]
    },
    {
      "cell_type": "code",
      "metadata": {
        "id": "-lMzd0FXqI4J"
      },
      "source": [
        "model = GaussianNB() # 초모수를 선택할 필요가 없기 때문에 괄호 안에 인수를 추가하지 않음"
      ],
      "execution_count": 3,
      "outputs": []
    },
    {
      "cell_type": "markdown",
      "metadata": {
        "id": "QydRCPNAqRw_"
      },
      "source": [
        "[ __데이터 분할__ ]"
      ]
    },
    {
      "cell_type": "code",
      "metadata": {
        "id": "cgaVijqkqU5G"
      },
      "source": [
        "from sklearn.model_selection import train_test_split\n",
        "\n",
        "Xtrain, Xtest, ytrain, ytest = train_test_split(X_iris, y_iris, test_size=0.25, random_state=1)"
      ],
      "execution_count": 6,
      "outputs": []
    },
    {
      "cell_type": "markdown",
      "metadata": {
        "id": "vc1YIhoXqcp7"
      },
      "source": [
        "[ __데이터 모델 적합__ ]"
      ]
    },
    {
      "cell_type": "code",
      "metadata": {
        "id": "o2rFh2D6qeSq"
      },
      "source": [
        "model.fit(Xtrain, ytrain) # (특징 행렬, 대산 배열)"
      ],
      "execution_count": 7,
      "outputs": []
    },
    {
      "cell_type": "markdown",
      "metadata": {
        "id": "uZuQ7k0WqiNJ"
      },
      "source": [
        "[ __모델 적용__ ]"
      ]
    },
    {
      "cell_type": "code",
      "metadata": {
        "id": "rVEIQaVKqkEu"
      },
      "source": [
        "y_model = model.predict(Xtest)"
      ],
      "execution_count": null,
      "outputs": []
    },
    {
      "cell_type": "markdown",
      "metadata": {
        "id": "dlQq5tImqlmn"
      },
      "source": [
        "[ __모델 정확도 확인__ ]"
      ]
    },
    {
      "cell_type": "code",
      "metadata": {
        "id": "7OE-6y3CqtSs"
      },
      "source": [
        "from sklearn.metrics import accuracy_score # 두 배열 사이에 서로 일치하는 요소의 비율 계산\n",
        "accuracy_score(ytest, y_model) # (붓꽃의 품종, 예측한 레이블)"
      ],
      "execution_count": null,
      "outputs": []
    },
    {
      "cell_type": "markdown",
      "metadata": {
        "id": "r2nbK7ziqv3n"
      },
      "source": [
        "## 7-2 초모수와 모델 검증 방법"
      ]
    },
    {
      "cell_type": "markdown",
      "metadata": {
        "id": "9OHhrbv4qyIO"
      },
      "source": [
        "### 1. 초모수와 모델 검증\n",
        "</br>\n",
        "\n",
        "##### 1) 지도 학습 단계\n",
        "+ 지도 학습 = 회귀 분석 + 분류 분석\n",
        "+ 초모수 : 학습을 통해 추정되지 않는 모델 모수\n",
        "+ 성공적인 지도학습은 정확도가 높은 모델을 찾아내는 것\n",
        "</br></br>\n",
        "\n",
        "##### 2) 잘못된 방식의 모델 검증\n",
        "[ __모델 불러오기__ ]"
      ]
    },
    {
      "cell_type": "code",
      "metadata": {
        "id": "gzrJpDNsqz1L"
      },
      "source": [
        "from sklearn.neighbors import KNeighborsClassifier"
      ],
      "execution_count": null,
      "outputs": []
    },
    {
      "cell_type": "markdown",
      "metadata": {
        "id": "cH1FRMdoq18B"
      },
      "source": [
        "+ 모델과 초모수 선택\n",
        "+ 훈련 데이터로 모델 훈련\n",
        "+ 계산된 예측값 vs 실제값 비교\n",
        "\n",
        "→ 견고한 모델 평가를 위해 검정 표본과 교차 검증을 사용하는 법은?\n",
        "</br>\n",
        "\n",
        "[ __K-최근접 이웃 분류기 모델__ ]\n",
        "+ 알려지지 않은 점의 레이블은 훈련 데이터 중 그와 가장 가까운 이웃 K개의 점의 레이블과 같음\n",
        "</br></br>\n",
        "\n",
        "[ __인스턴스 생성 및 초모수 선택__ ]"
      ]
    },
    {
      "cell_type": "code",
      "metadata": {
        "id": "0QT8lU7Fq3mR"
      },
      "source": [
        "model = KNeighborsClassifier(n_neighbors=1)"
      ],
      "execution_count": null,
      "outputs": []
    },
    {
      "cell_type": "markdown",
      "metadata": {
        "id": "JIz0t8X3q5Rw"
      },
      "source": [
        "+ 레이블이 없는 데이터가 있을 때, 그 데이터의 레이블은 가장 가까이 있는 점과 레이블이 동일\n",
        "</br></br>\n",
        "\n",
        "[ __데이터 준비__ ]"
      ]
    },
    {
      "cell_type": "code",
      "metadata": {
        "id": "wzJ2EcFKq7EL"
      },
      "source": [
        "from sklearn.datasets import load_iris\n",
        "iris = load_iris()\n",
        "X = iris.data\n",
        "y = iris.target"
      ],
      "execution_count": null,
      "outputs": []
    },
    {
      "cell_type": "markdown",
      "metadata": {
        "id": "FpxDGhmeq8uL"
      },
      "source": [
        "[ __모델 적합__ ]"
      ]
    },
    {
      "cell_type": "code",
      "metadata": {
        "id": "uidLKO4qq-z6"
      },
      "source": [
        "model.fit(X, y)"
      ],
      "execution_count": null,
      "outputs": []
    },
    {
      "cell_type": "markdown",
      "metadata": {
        "id": "3M4p1jshrAz1"
      },
      "source": [
        "[ __모델 평가__ ]"
      ]
    },
    {
      "cell_type": "code",
      "metadata": {
        "id": "d-IEpL5-rCsq"
      },
      "source": [
        "from sklearn.metrics import accuracy_score # accuracy_score : 인수로 주어진 두 배열의 각 요소를 비교하여 일치하는 비율을 계산하는 함수\n",
        "y_model = model.predict(X)\n",
        "accuracy_score(y, y_model)"
      ],
      "execution_count": null,
      "outputs": []
    },
    {
      "cell_type": "markdown",
      "metadata": {
        "id": "h1mvyiQ4rEHP"
      },
      "source": [
        "+ 정확도 1.0 → 모델을 사용해 100% 모든 점이 올바른 레이블을 가지게 됨\n",
        "+ 이 모델은 정말 언제나 참일까? → __NO__\n",
        "+ 모델을 훈련한 데이터와 동일한 데이터로 모델을 검증하였다  \n",
        "→ 잘못된 방식의 모델 검증\n",
        "+ 머신 러닝의 본래 목적에 맞도록 올바른 방식의 검증 방식이 필요\n",
        "</br></br>\n",
        "\n",
        "[ __데이터 분할__ ]"
      ]
    },
    {
      "cell_type": "code",
      "metadata": {
        "id": "718gDbKxrGdw"
      },
      "source": [
        "from sklearn.model_selection import train_test_split\n",
        "\n",
        "X1, X2, y1, y2 = train_test_split(X, y, random_state=0, train_size=0.5) # 전체 데이터 중에서 학습 50%, 검증에 50%"
      ],
      "execution_count": null,
      "outputs": []
    },
    {
      "cell_type": "markdown",
      "metadata": {
        "id": "USpfn1nXrIQz"
      },
      "source": [
        "[ __모델 적합 및 평가__ ]"
      ]
    },
    {
      "cell_type": "code",
      "metadata": {
        "id": "1pX1Dl8-rKAQ"
      },
      "source": [
        "model.fit(X1, y1)\n",
        "\n",
        "y2_model = model.predict(X2)\n",
        "accuracy_score(y2, y2_model)"
      ],
      "execution_count": null,
      "outputs": []
    },
    {
      "cell_type": "markdown",
      "metadata": {
        "id": "P14DknGNrLVO"
      },
      "source": [
        "+ K-최근접 이웃 분류기는 이 검증데이터에 대해 약 90%의 정확도를 가짐\n",
        "</br></br>\n",
        "\n",
        "### 1. 교차 검증 방법\n",
        "</br>\n",
        "\n",
        "##### 1) 2겹 교차 검증\n",
        "+ 데이터의 양이 충분하지 않을 때 사용할 수 있는 방법 = __교차 검증 방법(Cross Validation)\n",
        "+ 데이터를 절반씩 나누어 절반은 훈련데이터, 나머지 절반은 검증데이터로 사용\n",
        "+ 서로 역할을 바꾸어 훈련과 검증을 반복 실시하는 것\n",
        "</br></br>\n",
        "\n",
        "[ __결과__ ]"
      ]
    },
    {
      "cell_type": "code",
      "metadata": {
        "id": "Ksme69ZXrWrG"
      },
      "source": [
        "y1_model = model.fit(X1, y1).predict(X2)\n",
        "y2_model = model.fit(X2, y2).predict(X1)\n",
        "score1 = accuracy_score(y1, y1_model)\n",
        "score2 = accuracy_score(y2, y2_model)\n",
        "score = (score1 + score2) / 2\n",
        "print(score)"
      ],
      "execution_count": 9,
      "outputs": []
    },
    {
      "cell_type": "markdown",
      "metadata": {
        "id": "mDtHMic1ra39"
      },
      "source": [
        "+ 두 개의 정확도 값의 평균을 구해 최종 정확도 계산\n",
        "</br></br>\n",
        "\n",
        "##### 2) 5겹 교차 검증\n",
        "+ 5번 검증 실시\n",
        "+ 전체 데이터의 1/5을 검증 데이터, 나머지인 4/5를 훈련 데이터로 사용\n",
        "</br></br>\n",
        "\n",
        "[ __결과__ ]"
      ]
    },
    {
      "cell_type": "code",
      "metadata": {
        "id": "wh3wTlsgraoF"
      },
      "source": [
        "from sklearn.model_selection import cross_val_score\n",
        "cross_val_score(model, X, y, cv=5).mean()"
      ],
      "execution_count": null,
      "outputs": []
    },
    {
      "cell_type": "markdown",
      "metadata": {
        "id": "t3z8zi1vrfWI"
      },
      "source": [
        "##### 3) 단일 관측지 제거 방식\n",
        "+ 데이터의 수가 극도로 적은 경우\n",
        "+ 1개의 데이터만을 검증 데이터로 사용\n",
        "+ 이 경우 전체 데이터의 수만큼 교차 검증을 반복"
      ]
    },
    {
      "cell_type": "code",
      "metadata": {
        "id": "b7a6B-ffro4p"
      },
      "source": [
        "from sklearn.model_selection import LeaveOneOut\n",
        "scores = cross_val_score(model, X, y, cv=LeaveOneOut())\n",
        "scores.mean() # 평균 계산을 통해 정확도 추정"
      ],
      "execution_count": null,
      "outputs": []
    },
    {
      "cell_type": "markdown",
      "metadata": {
        "id": "2P8g8ZX_rk5k"
      },
      "source": [
        "+ 데이터 수가 충분하지 않을 때 사용하면 효과적"
      ]
    }
  ]
}