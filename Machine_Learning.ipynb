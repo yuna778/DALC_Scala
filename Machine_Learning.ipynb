{
  "nbformat": 4,
  "nbformat_minor": 0,
  "metadata": {
    "colab": {
      "name": "Machine_Learning.ipynb",
      "provenance": [],
      "authorship_tag": "ABX9TyMmnp2WEdq3srQ4afurIPxB",
      "include_colab_link": true
    },
    "kernelspec": {
      "name": "python3",
      "display_name": "Python 3"
    },
    "language_info": {
      "name": "python"
    }
  },
  "cells": [
    {
      "cell_type": "markdown",
      "metadata": {
        "id": "view-in-github",
        "colab_type": "text"
      },
      "source": [
        "<a href=\"https://colab.research.google.com/github/yuna778/DALC_Scala/blob/main/Machine_Learning.ipynb\" target=\"_parent\"><img src=\"https://colab.research.google.com/assets/colab-badge.svg\" alt=\"Open In Colab\"/></a>"
      ]
    },
    {
      "cell_type": "markdown",
      "metadata": {
        "id": "bxTFlgTelmmY"
      },
      "source": [
        "# 머신러닝"
      ]
    },
    {
      "cell_type": "markdown",
      "metadata": {
        "id": "HBl7Vtanlp3n"
      },
      "source": [
        "## 머신러닝의 정의\n",
        "- 인공지능의 하위 분야로 분류\n",
        "- 데이터 모델을 구축하는 체계적인 수단\n",
        "- 데이터를 통한 학습 모델을 도출하고 새로운 데이터에 대한 추론과 패턴 예측에 활용"
      ]
    },
    {
      "cell_type": "markdown",
      "metadata": {
        "id": "P_p3sZOqlt_a"
      },
      "source": [
        "## 머신러닝의 범주\n",
        "\n",
        "### 지도학습 (Supervised learning)\n",
        "데이터의 측정된 특징과 데이터와 관련된 레이블 사이의 관계를 모델링\n",
        "\n",
        "### 비지도학습 (Unsupervised learning)\n",
        "레이블을 참조하지 않고 데이터 세트의 특징을 모델링"
      ]
    },
    {
      "cell_type": "markdown",
      "metadata": {
        "id": "ZvjUaw44lur0"
      },
      "source": [
        "## 회귀분석\n",
        "\n",
        "### 회귀분석\n",
        "레이블이 연속적인 수치형 데이터일 경우\n",
        "\n",
        "### 분류분석\n",
        "레이블이 범주, 클래스 등 이산적 데이터일 경우"
      ]
    },
    {
      "cell_type": "code",
      "metadata": {
        "colab": {
          "base_uri": "https://localhost:8080/",
          "height": 171
        },
        "id": "f59TwKvQlxDT",
        "outputId": "b4d470b2-3348-4736-a185-8d60f986ee29"
      },
      "source": [
        "import seaborn as sns\n",
        "iris = sns.load_dataset('iris')\n",
        "iris.head(4)"
      ],
      "execution_count": 1,
      "outputs": [
        {
          "output_type": "execute_result",
          "data": {
            "text/html": [
              "<div>\n",
              "<style scoped>\n",
              "    .dataframe tbody tr th:only-of-type {\n",
              "        vertical-align: middle;\n",
              "    }\n",
              "\n",
              "    .dataframe tbody tr th {\n",
              "        vertical-align: top;\n",
              "    }\n",
              "\n",
              "    .dataframe thead th {\n",
              "        text-align: right;\n",
              "    }\n",
              "</style>\n",
              "<table border=\"1\" class=\"dataframe\">\n",
              "  <thead>\n",
              "    <tr style=\"text-align: right;\">\n",
              "      <th></th>\n",
              "      <th>sepal_length</th>\n",
              "      <th>sepal_width</th>\n",
              "      <th>petal_length</th>\n",
              "      <th>petal_width</th>\n",
              "      <th>species</th>\n",
              "    </tr>\n",
              "  </thead>\n",
              "  <tbody>\n",
              "    <tr>\n",
              "      <th>0</th>\n",
              "      <td>5.1</td>\n",
              "      <td>3.5</td>\n",
              "      <td>1.4</td>\n",
              "      <td>0.2</td>\n",
              "      <td>setosa</td>\n",
              "    </tr>\n",
              "    <tr>\n",
              "      <th>1</th>\n",
              "      <td>4.9</td>\n",
              "      <td>3.0</td>\n",
              "      <td>1.4</td>\n",
              "      <td>0.2</td>\n",
              "      <td>setosa</td>\n",
              "    </tr>\n",
              "    <tr>\n",
              "      <th>2</th>\n",
              "      <td>4.7</td>\n",
              "      <td>3.2</td>\n",
              "      <td>1.3</td>\n",
              "      <td>0.2</td>\n",
              "      <td>setosa</td>\n",
              "    </tr>\n",
              "    <tr>\n",
              "      <th>3</th>\n",
              "      <td>4.6</td>\n",
              "      <td>3.1</td>\n",
              "      <td>1.5</td>\n",
              "      <td>0.2</td>\n",
              "      <td>setosa</td>\n",
              "    </tr>\n",
              "  </tbody>\n",
              "</table>\n",
              "</div>"
            ],
            "text/plain": [
              "   sepal_length  sepal_width  petal_length  petal_width species\n",
              "0           5.1          3.5           1.4          0.2  setosa\n",
              "1           4.9          3.0           1.4          0.2  setosa\n",
              "2           4.7          3.2           1.3          0.2  setosa\n",
              "3           4.6          3.1           1.5          0.2  setosa"
            ]
          },
          "metadata": {
            "tags": []
          },
          "execution_count": 1
        }
      ]
    },
    {
      "cell_type": "code",
      "metadata": {
        "colab": {
          "base_uri": "https://localhost:8080/",
          "height": 284
        },
        "id": "WnVWsnnkl2D5",
        "outputId": "3e3b1c7e-cbaa-46b8-fad5-05f3afc9d5a0"
      },
      "source": [
        "import matplotlib.pyplot as plt\n",
        "import numpy as np\n",
        "\n",
        "rng = np.random.RandomState(42)\n",
        "x = 10*rng.rand(50)\n",
        "y = 2*x-1+rng.randn(50)\n",
        "plt.scatter(x,y)"
      ],
      "execution_count": 2,
      "outputs": [
        {
          "output_type": "execute_result",
          "data": {
            "text/plain": [
              "<matplotlib.collections.PathCollection at 0x7f1a7df64850>"
            ]
          },
          "metadata": {
            "tags": []
          },
          "execution_count": 2
        },
        {
          "output_type": "display_data",
          "data": {
            "image/png": "[encoded data removed]",
            "text/plain": [
              "<Figure size 432x288 with 1 Axes>"
            ]
          },
          "metadata": {
            "tags": [],
            "needs_background": "light"
          }
        }
      ]
    },
    {
      "cell_type": "code",
      "metadata": {
        "id": "gMnRm6LfmJkU"
      },
      "source": [
        "from sklearn.linear_model import LinearRegression"
      ],
      "execution_count": 3,
      "outputs": []
    },
    {
      "cell_type": "code",
      "metadata": {
        "id": "xtqEOGaAmKzG"
      },
      "source": [
        "model = LinearRegression(fit_intercept=True)"
      ],
      "execution_count": 8,
      "outputs": []
    },
    {
      "cell_type": "code",
      "metadata": {
        "colab": {
          "base_uri": "https://localhost:8080/"
        },
        "id": "-3U3u0vomNaH",
        "outputId": "a70ef115-6274-43a9-e24f-c3efb2ed494c"
      },
      "source": [
        "X = x[:, np.newaxis]\n",
        "X.shape"
      ],
      "execution_count": 4,
      "outputs": [
        {
          "output_type": "execute_result",
          "data": {
            "text/plain": [
              "(50, 1)"
            ]
          },
          "metadata": {
            "tags": []
          },
          "execution_count": 4
        }
      ]
    },
    {
      "cell_type": "code",
      "metadata": {
        "colab": {
          "base_uri": "https://localhost:8080/"
        },
        "id": "abbwlJVTmPR2",
        "outputId": "10645abe-ffbc-451a-a448-310b6440bc4f"
      },
      "source": [
        "X = x.reshape(50,1)\n",
        "X.shape"
      ],
      "execution_count": 5,
      "outputs": [
        {
          "output_type": "execute_result",
          "data": {
            "text/plain": [
              "(50, 1)"
            ]
          },
          "metadata": {
            "tags": []
          },
          "execution_count": 5
        }
      ]
    },
    {
      "cell_type": "code",
      "metadata": {
        "colab": {
          "base_uri": "https://localhost:8080/"
        },
        "id": "F96yWwLPmQVY",
        "outputId": "fee06ba8-0eb5-4481-fcbe-33c3bc1becd7"
      },
      "source": [
        "model.fit(X,y)"
      ],
      "execution_count": 9,
      "outputs": [
        {
          "output_type": "execute_result",
          "data": {
            "text/plain": [
              "LinearRegression(copy_X=True, fit_intercept=True, n_jobs=None, normalize=False)"
            ]
          },
          "metadata": {
            "tags": []
          },
          "execution_count": 9
        }
      ]
    },
    {
      "cell_type": "code",
      "metadata": {
        "colab": {
          "base_uri": "https://localhost:8080/"
        },
        "id": "cX-RMyommSWo",
        "outputId": "e153a0cb-e6a3-423c-e03a-f0e064b407e3"
      },
      "source": [
        "print(model.coef_)"
      ],
      "execution_count": 10,
      "outputs": [
        {
          "output_type": "stream",
          "text": [
            "[1.9776566]\n"
          ],
          "name": "stdout"
        }
      ]
    },
    {
      "cell_type": "code",
      "metadata": {
        "colab": {
          "base_uri": "https://localhost:8080/",
          "height": 284
        },
        "id": "R-WA3ddWmb1R",
        "outputId": "9bba898a-4861-4c96-bd12-180c267d0596"
      },
      "source": [
        "xfit = np.linspace(-1,11)\n",
        "plt.scatter(x,y)\n",
        "plt.plot(xfit, model.coef_ * xfit + model.intercept_, '-r')"
      ],
      "execution_count": 11,
      "outputs": [
        {
          "output_type": "execute_result",
          "data": {
            "text/plain": [
              "[<matplotlib.lines.Line2D at 0x7f1a7a888410>]"
            ]
          },
          "metadata": {
            "tags": []
          },
          "execution_count": 11
        },
        {
          "output_type": "display_data",
          "data": {
            "image/png": "[encoded data removed]",
            "text/plain": [
              "<Figure size 432x288 with 1 Axes>"
            ]
          },
          "metadata": {
            "tags": [],
            "needs_background": "light"
          }
        }
      ]
    },
    {
      "cell_type": "markdown",
      "metadata": {
        "id": "dOn87DEllzbG"
      },
      "source": [
        "- 고편향 모델 : 검정 표본에서의 모델 성능이 훈련 표본에서의 성능과 유사\n",
        "- 고분산 모델 : 훈련 표본에서는 모델 성능이 우수하지만 검정 표본에서는 성능 저하\n",
        "- 고편향과 고분산이 절충되어 검정 점수가 가장 높은 정도의 모델 복잡도가 나오는 것이 바람직함"
      ]
    }
  ]
}