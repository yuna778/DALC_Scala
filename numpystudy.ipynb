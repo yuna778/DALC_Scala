{
  "nbformat": 4,
  "nbformat_minor": 0,
  "metadata": {
    "colab": {
      "name": "numpystudy.ipynb",
      "provenance": [],
      "collapsed_sections": [],
      "authorship_tag": "ABX9TyO6V74GvVAtD9T/CZJA8M2O",
      "include_colab_link": true
    },
    "kernelspec": {
      "name": "python3",
      "display_name": "Python 3"
    },
    "language_info": {
      "name": "python"
    }
  },
  "cells": [
    {
      "cell_type": "markdown",
      "metadata": {
        "id": "view-in-github",
        "colab_type": "text"
      },
      "source": [
        "<a href=\"https://colab.research.google.com/github/yuna778/DALC_Scala/blob/main/numpystudy.ipynb\" target=\"_parent\"><img src=\"https://colab.research.google.com/assets/colab-badge.svg\" alt=\"Open In Colab\"/></a>"
      ]
    },
    {
      "cell_type": "markdown",
      "metadata": {
        "id": "TGTab7EPv-p1"
      },
      "source": [
        "# DALC_Scala: numpy기초\n",
        "\n",
        "\n",
        "## 1. 빅데이터 분석 및 처리\n",
        "1) 프로그래밍 언어\n",
        "- 빅데이터의 정의\n",
        "  * 관계형 데이터베이스 관리 시스템과 같은 전통적 데이터 관리 기법으로 다루기 힘든 데이터\n",
        "- R\n",
        "  * 통계 계산과 그래픽을 위한 프로그래밍 언어이자 소프트웨어 환경\n",
        "  * 다양한 통계 기법과 수치 해석기법 지원\n",
        "- python\n",
        "  * 단순한 문법 구조를 가진 고수준의 언어\n",
        "  * 이해하기 쉽고 유연한 문법\n",
        "  * 연산능력을 극대화 시켜주는 오픈소스 라이브러리(모듈)가 풍부함\n",
        "\n",
        "2) 파이썬 프로그래밍 도구 기반 빅데이터 분석 및 처리과정 탐구\n",
        "- 활용 이유\n",
        "  * 대용량 데이터 세트의 분석과 처리에 유연성 가짐\n",
        "  * 다양한 패키지가 목적에 맞게 개발됨\n",
        "  * 꾸준히 개발 및 출시가 진행됨\n",
        "  \n",
        "        * 예)\n",
        "        - Numpy: 동일한 데이터 타입을 가진 배열 기반의 데이터 처리\n",
        "        - Pandas: data frame 형태로 데이터를 다룸\n",
        "        - Scipy: 과학 계산 작업\n",
        "        - Matplotlib: 데이터 시각화\n",
        "        - Scikit-Learn: 머신러닝\n",
        "    \n",
        "\n",
        "\n",
        "## 2. 데이터 저장 및 가공\n",
        "1) 데이터 분석\n",
        "- 데이터\n",
        "  * 이미지, 사운드 등 다양한 형식으로 존재\n",
        "  * 컴퓨터 내부 연산 처리 → 숫자 배열로 변환\n",
        "\n",
        "        * 예)\n",
        "          - 이미지 데이터 → 픽셀 밝기를 나타내는 2차원 숫자 배열\n",
        "          - 사운드 데이터 → 시간 대비 강도를 나타내는 1차원 배열차원 숫자 배열\n",
        "                    - 사운드 데이터 → 시간 대비 강도를 나타내는 1차원 배열\n",
        "\n",
        "\n",
        "          1. 원본 데이터를 숫자 배열로 변환\n",
        "          2. 편한 방식으로 연산 적용\n",
        "          3. 연산 결과를 다루기 쉬운 형태로 변환\n",
        "          4. 분석        \n",
        "\n",
        "\n",
        "  * 숫자 배열을 효율적으로 __저장하고 가공하는 것__ 은 데이터 분석을 위한 기본 절차\n",
        "  ㅁ\n",
        "  * 숫자 배열을 전문적으로 다루는 __Numpy 패키지__ 필요\n",
        "\n",
        "\n",
        "## 3. Numpy 패키지\n",
        "1) 넘파이(Numerical Python)\n",
        "- 개요\n",
        "  * 벡터 및 행렬 연산에 유용한 기능 제공\n",
        "  * 빅데이터 분석을 위해 사용되는 라이브러리<br>pandad와 matplotlib에서 기본으로 사용되는 패키지\n",
        "\n",
        "- 특징\n",
        "  * __array__ 단위로 데이터 관리 및 연산 수행용되는 패키지\n",
        "  > array: 동일한 데이터 타입을 갖는 벡터나 행렬\n",
        "  * 배열 규모가 커질수록 데이터 저장 및 처리에 효율적\n",
        "      \n",
        "## 4. 행렬 생성\n",
        "1) 넘파이 패키지 임포트\n",
        "\n",
        "\n"
      ]
    },
    {
      "cell_type": "code",
      "metadata": {
        "id": "TKybBm8R0zSC"
      },
      "source": [
        "import numpy as np"
      ],
      "execution_count": 11,
      "outputs": []
    },
    {
      "cell_type": "markdown",
      "metadata": {
        "id": "wEktaEsa04rN"
      },
      "source": [
        "2) array 정의와 사용 방법\n",
        "- data 1, data 2 리스트 생성"
      ]
    },
    {
      "cell_type": "code",
      "metadata": {
        "colab": {
          "base_uri": "https://localhost:8080/"
        },
        "id": "Eiu3Oab61Bp9",
        "outputId": "9dc530b7-0ef0-44fc-c463-ad98a8753443"
      },
      "source": [
        "data1 = [1,2,3,4,5]\n",
        "data2 = [6,5,4,3,2,1]\n",
        "print(data1, data2)"
      ],
      "execution_count": 12,
      "outputs": [
        {
          "output_type": "stream",
          "text": [
            "[1, 2, 3, 4, 5] [6, 5, 4, 3, 2, 1]\n"
          ],
          "name": "stdout"
        }
      ]
    },
    {
      "cell_type": "markdown",
      "metadata": {
        "id": "M_Rz_fin1SD_"
      },
      "source": [
        "- ar1 numpy 배열 생성"
      ]
    },
    {
      "cell_type": "code",
      "metadata": {
        "colab": {
          "base_uri": "https://localhost:8080/"
        },
        "id": "LM0UE1vY1WT5",
        "outputId": "83903682-7da2-47a4-caef-fe6a1f8b4ff8"
      },
      "source": [
        "ar1 = np.array(data1)\n",
        "ar1"
      ],
      "execution_count": 13,
      "outputs": [
        {
          "output_type": "execute_result",
          "data": {
            "text/plain": [
              "array([1, 2, 3, 4, 5])"
            ]
          },
          "metadata": {
            "tags": []
          },
          "execution_count": 13
        }
      ]
    },
    {
      "cell_type": "markdown",
      "metadata": {
        "id": "kNgbbYkO1pD8"
      },
      "source": [
        "- ar2 numpy 배열 생성"
      ]
    },
    {
      "cell_type": "code",
      "metadata": {
        "colab": {
          "base_uri": "https://localhost:8080/"
        },
        "id": "LL6XyQ6H1t6X",
        "outputId": "7b24a667-f59f-4588-fa3b-572b041b98aa"
      },
      "source": [
        "ar2 = np.array(data1, dtype='float32')\n",
        "ar2"
      ],
      "execution_count": 14,
      "outputs": [
        {
          "output_type": "execute_result",
          "data": {
            "text/plain": [
              "array([1., 2., 3., 4., 5.], dtype=float32)"
            ]
          },
          "metadata": {
            "tags": []
          },
          "execution_count": 14
        }
      ]
    },
    {
      "cell_type": "markdown",
      "metadata": {
        "id": "QTJaZqTN13IT"
      },
      "source": [
        ""
      ]
    },
    {
      "cell_type": "markdown",
      "metadata": {
        "id": "XEfsV6Lh14CQ"
      },
      "source": [
        "3) 다차원 배열 구성\n",
        "- 다차원 배열 초기화화"
      ]
    },
    {
      "cell_type": "code",
      "metadata": {
        "colab": {
          "base_uri": "https://localhost:8080/"
        },
        "id": "lmKff6n217pK",
        "outputId": "04ff7744-0778-4870-8765-7695af3f99ac"
      },
      "source": [
        "ar3 = np.array([range(i, i + 3) for i in data1])\n",
        "ar3"
      ],
      "execution_count": 20,
      "outputs": [
        {
          "output_type": "execute_result",
          "data": {
            "text/plain": [
              "array([[1, 2, 3],\n",
              "       [2, 3, 4],\n",
              "       [3, 4, 5],\n",
              "       [4, 5, 6],\n",
              "       [5, 6, 7]])"
            ]
          },
          "metadata": {
            "tags": []
          },
          "execution_count": 20
        }
      ]
    },
    {
      "cell_type": "markdown",
      "metadata": {
        "id": "06rVsS9c3BnS"
      },
      "source": [
        "- full 함수"
      ]
    },
    {
      "cell_type": "code",
      "metadata": {
        "colab": {
          "base_uri": "https://localhost:8080/"
        },
        "id": "rFPUU34s3EqW",
        "outputId": "94cc0ff7-061a-41d5-b007-7e2f31d81420"
      },
      "source": [
        "ar4 = np.full((3, 5), 3.14)\n",
        "ar4"
      ],
      "execution_count": 21,
      "outputs": [
        {
          "output_type": "execute_result",
          "data": {
            "text/plain": [
              "array([[3.14, 3.14, 3.14, 3.14, 3.14],\n",
              "       [3.14, 3.14, 3.14, 3.14, 3.14],\n",
              "       [3.14, 3.14, 3.14, 3.14, 3.14]])"
            ]
          },
          "metadata": {
            "tags": []
          },
          "execution_count": 21
        }
      ]
    },
    {
      "cell_type": "markdown",
      "metadata": {
        "id": "BHMly6zF3R_u"
      },
      "source": [
        "- arange 함수"
      ]
    },
    {
      "cell_type": "code",
      "metadata": {
        "colab": {
          "base_uri": "https://localhost:8080/"
        },
        "id": "5eI-VBUf3P_R",
        "outputId": "f520c5e9-2fc9-47db-d294-c03d97974287"
      },
      "source": [
        "ar5 = np.arange(0, 20, 2)\n",
        "ar5"
      ],
      "execution_count": 22,
      "outputs": [
        {
          "output_type": "execute_result",
          "data": {
            "text/plain": [
              "array([ 0,  2,  4,  6,  8, 10, 12, 14, 16, 18])"
            ]
          },
          "metadata": {
            "tags": []
          },
          "execution_count": 22
        }
      ]
    },
    {
      "cell_type": "markdown",
      "metadata": {
        "id": "scMhc4mh3ZmF"
      },
      "source": [
        "4) 배열 구성\n",
        "- linspace 함수"
      ]
    },
    {
      "cell_type": "code",
      "metadata": {
        "colab": {
          "base_uri": "https://localhost:8080/"
        },
        "id": "xSZdNW7Q3dXU",
        "outputId": "c713a9b9-2015-4c7b-ac0f-2439aac634cf"
      },
      "source": [
        "ar6 = np.linspace(0, 1, 3)\n",
        "ar6"
      ],
      "execution_count": 23,
      "outputs": [
        {
          "output_type": "execute_result",
          "data": {
            "text/plain": [
              "array([0. , 0.5, 1. ])"
            ]
          },
          "metadata": {
            "tags": []
          },
          "execution_count": 23
        }
      ]
    },
    {
      "cell_type": "markdown",
      "metadata": {
        "id": "TCPvU2m13kqU"
      },
      "source": [
        "5) 무작위 값의 배열 구성\n",
        "- random 함수"
      ]
    },
    {
      "cell_type": "code",
      "metadata": {
        "colab": {
          "base_uri": "https://localhost:8080/"
        },
        "id": "3yOfqF6y3ntS",
        "outputId": "b7993f0f-3a20-4d9e-e70c-94986523321d"
      },
      "source": [
        "ar7 = np.random.random((3,3))\n",
        "ar7"
      ],
      "execution_count": 24,
      "outputs": [
        {
          "output_type": "execute_result",
          "data": {
            "text/plain": [
              "array([[0.06569346, 0.64053856, 0.3021795 ],\n",
              "       [0.37641167, 0.52367488, 0.58624387],\n",
              "       [0.98986573, 0.97022195, 0.62377574]])"
            ]
          },
          "metadata": {
            "tags": []
          },
          "execution_count": 24
        }
      ]
    },
    {
      "cell_type": "markdown",
      "metadata": {
        "id": "XyF64NAM3ttK"
      },
      "source": [
        "- randint 함수"
      ]
    },
    {
      "cell_type": "code",
      "metadata": {
        "colab": {
          "base_uri": "https://localhost:8080/"
        },
        "id": "BpxNafhX3wbK",
        "outputId": "2c2ff8ae-b976-4077-d39e-67d0c44fc25d"
      },
      "source": [
        "ar8 = np.random.randint(0, 100, (3, 3))\n",
        "ar8"
      ],
      "execution_count": 29,
      "outputs": [
        {
          "output_type": "execute_result",
          "data": {
            "text/plain": [
              "array([[31, 84, 64],\n",
              "       [47, 31, 71],\n",
              "       [24,  2, 15]])"
            ]
          },
          "metadata": {
            "tags": []
          },
          "execution_count": 29
        }
      ]
    },
    {
      "cell_type": "markdown",
      "metadata": {
        "id": "JwuNdzmK3--r"
      },
      "source": [
        "6) 단위 행렬 생성\n",
        "- eye 함수"
      ]
    },
    {
      "cell_type": "code",
      "metadata": {
        "colab": {
          "base_uri": "https://localhost:8080/"
        },
        "id": "nVpBkwmz4DLh",
        "outputId": "f6964b3c-d150-4e4e-f763-652241d9a64c"
      },
      "source": [
        "ar9 = np.eye(3)\n",
        "ar9"
      ],
      "execution_count": 30,
      "outputs": [
        {
          "output_type": "execute_result",
          "data": {
            "text/plain": [
              "array([[1., 0., 0.],\n",
              "       [0., 1., 0.],\n",
              "       [0., 0., 1.]])"
            ]
          },
          "metadata": {
            "tags": []
          },
          "execution_count": 30
        }
      ]
    },
    {
      "cell_type": "markdown",
      "metadata": {
        "id": "RXu1gptM4UXY"
      },
      "source": [
        "## 5. Numpy 표준 데이터 타입\n",
        "- Numpy의 배열은 한가지 데이터 타입값만을 담고 있음\n",
        "- 데이터 타입의 종류와 제약 사항을 살펴보는 것이 numpy의 활용 측면에서 매우 중요\n",
        "\n",
        "## 6. 배열 분할, 재구성, 결합\n",
        "1) 배열 속성\n"
      ]
    },
    {
      "cell_type": "code",
      "metadata": {
        "colab": {
          "base_uri": "https://localhost:8080/"
        },
        "id": "qwyBAAhr4vDy",
        "outputId": "a3cfefa1-cc27-43a5-fc1a-1eecf165e7b7"
      },
      "source": [
        "import numpy as np\n",
        "x = np.random.randint(10, size=(3, 4, 5))\n",
        "x\n",
        "\n",
        "print(\"x ndim:\", x.ndim)\n",
        "print(\"x shape:\", x.shape)\n",
        "print(\"x size:\", x.size)"
      ],
      "execution_count": 33,
      "outputs": [
        {
          "output_type": "stream",
          "text": [
            "x ndim: 3\n",
            "x shape: (3, 4, 5)\n",
            "x size: 60\n"
          ],
          "name": "stdout"
        }
      ]
    },
    {
      "cell_type": "markdown",
      "metadata": {
        "id": "7zEsZA_O5S0j"
      },
      "source": [
        "  * ndim: 차원의 개수\n",
        "  * shape: 각 차원의 크기\n",
        "  * size: 전체 배열의 크기기"
      ]
    },
    {
      "cell_type": "code",
      "metadata": {
        "colab": {
          "base_uri": "https://localhost:8080/"
        },
        "id": "uiX400-e5ZzF",
        "outputId": "a130ae08-87d3-4c17-b3df-0f509b94f1d2"
      },
      "source": [
        "y=np.array([2, 4, 6, 8, 10])\n",
        "print(y[0], y[-2])"
      ],
      "execution_count": 34,
      "outputs": [
        {
          "output_type": "stream",
          "text": [
            "2 8\n"
          ],
          "name": "stdout"
        }
      ]
    },
    {
      "cell_type": "markdown",
      "metadata": {
        "id": "d9UX76Du5l__"
      },
      "source": [
        "> 개별 배열요소 값을 가져오거나 특정 위치에 값을 설정하기 위해 사용\n",
        "\n",
        "<br>\n",
        "\n",
        "3) 다차원 배열 인덱싱"
      ]
    },
    {
      "cell_type": "code",
      "metadata": {
        "colab": {
          "base_uri": "https://localhost:8080/"
        },
        "id": "Ms_5mnuT5vNl",
        "outputId": "2b81dd13-e2c6-4b11-81a7-ed2e3a7c42a0"
      },
      "source": [
        "z=np.array([[2, 4, 6, 8, 10], [3, 6, 9, 12, 15]])\n",
        "print(z[1, 0])"
      ],
      "execution_count": 35,
      "outputs": [
        {
          "output_type": "stream",
          "text": [
            "3\n"
          ],
          "name": "stdout"
        }
      ]
    },
    {
      "cell_type": "code",
      "metadata": {
        "colab": {
          "base_uri": "https://localhost:8080/"
        },
        "id": "DPeVbcg66Ic-",
        "outputId": "1fa29bcd-1cf7-4be6-9821-235e52b5a954"
      },
      "source": [
        "z[0, 0]=12\n",
        "z"
      ],
      "execution_count": 36,
      "outputs": [
        {
          "output_type": "execute_result",
          "data": {
            "text/plain": [
              "array([[12,  4,  6,  8, 10],\n",
              "       [ 3,  6,  9, 12, 15]])"
            ]
          },
          "metadata": {
            "tags": []
          },
          "execution_count": 36
        }
      ]
    },
    {
      "cell_type": "markdown",
      "metadata": {
        "id": "z2DQOSkK6OkY"
      },
      "source": [
        "4) 배열 슬라이싱\n",
        "- 콜론(:) 기호를 나타내는 슬라이스(slice) 표기법\n",
        "> x[start:stop:step]\n",
        "  \n",
        "  * 기본값\n",
        "    - start는 0으로 설정\n",
        "    - stop은 차원 크기로 설정\n",
        "    - step은 1로 설정\n",
        "   "
      ]
    },
    {
      "cell_type": "code",
      "metadata": {
        "colab": {
          "base_uri": "https://localhost:8080/"
        },
        "id": "MdlrJCbB6QvL",
        "outputId": "b33c6408-0f42-463b-b61f-d50792ddc895"
      },
      "source": [
        "x=np.arange(10)\n",
        "x[4:8]"
      ],
      "execution_count": 37,
      "outputs": [
        {
          "output_type": "execute_result",
          "data": {
            "text/plain": [
              "array([4, 5, 6, 7])"
            ]
          },
          "metadata": {
            "tags": []
          },
          "execution_count": 37
        }
      ]
    },
    {
      "cell_type": "code",
      "metadata": {
        "colab": {
          "base_uri": "https://localhost:8080/"
        },
        "id": "3Up7-p786vDu",
        "outputId": "f096abaf-6e57-400c-f98a-a1591aed3430"
      },
      "source": [
        "x=np.arange(10)\n",
        "x[:5]\n",
        "\n",
        "# 첫번째 다섯 요소를 가진 하위 배열 생성"
      ],
      "execution_count": 38,
      "outputs": [
        {
          "output_type": "execute_result",
          "data": {
            "text/plain": [
              "array([0, 1, 2, 3, 4])"
            ]
          },
          "metadata": {
            "tags": []
          },
          "execution_count": 38
        }
      ]
    },
    {
      "cell_type": "code",
      "metadata": {
        "colab": {
          "base_uri": "https://localhost:8080/"
        },
        "id": "dxuD0o_06xWk",
        "outputId": "4204bbff-024c-4c19-d231-e83ddbc02736"
      },
      "source": [
        "x=np.arange(10)\n",
        "x[5:]\n",
        "\n",
        "# 인덱스 5 이후의 요소를 가진 하위 배열을 생성성"
      ],
      "execution_count": 39,
      "outputs": [
        {
          "output_type": "execute_result",
          "data": {
            "text/plain": [
              "array([5, 6, 7, 8, 9])"
            ]
          },
          "metadata": {
            "tags": []
          },
          "execution_count": 39
        }
      ]
    },
    {
      "cell_type": "markdown",
      "metadata": {
        "id": "8Qghyez47FRZ"
      },
      "source": [
        "5) 다차원 배열 슬라이싱\n",
        "- 콤마(,)로 구분된 다중 슬라이스(slice) 표기법"
      ]
    },
    {
      "cell_type": "code",
      "metadata": {
        "colab": {
          "base_uri": "https://localhost:8080/"
        },
        "id": "Xsd0ouRb7DGp",
        "outputId": "0459f42f-badd-4239-9a57-95163c5033c4"
      },
      "source": [
        "z=np.array([[2, 4, 6, 8], [3, 6, 9, 12], [4, 8, 12, 16]])\n",
        "z[:2, :3]"
      ],
      "execution_count": 40,
      "outputs": [
        {
          "output_type": "execute_result",
          "data": {
            "text/plain": [
              "array([[2, 4, 6],\n",
              "       [3, 6, 9]])"
            ]
          },
          "metadata": {
            "tags": []
          },
          "execution_count": 40
        }
      ]
    },
    {
      "cell_type": "markdown",
      "metadata": {
        "id": "do8Mw61W7YIT"
      },
      "source": [
        "> 인덱스 0,1행과 인덱스 0,1,2 열로 구성되는 다차원 하위 배열 생성"
      ]
    },
    {
      "cell_type": "code",
      "metadata": {
        "colab": {
          "base_uri": "https://localhost:8080/"
        },
        "id": "JrPbSrgn7gjQ",
        "outputId": "4d10f983-1e92-4962-bccd-deea557b4d80"
      },
      "source": [
        "z=np.array([[2, 4, 6, 8], [3, 6, 9, 12], [4, 8, 12, 16]])\n",
        "z[:3, :2]"
      ],
      "execution_count": 41,
      "outputs": [
        {
          "output_type": "execute_result",
          "data": {
            "text/plain": [
              "array([[2, 4],\n",
              "       [3, 6],\n",
              "       [4, 8]])"
            ]
          },
          "metadata": {
            "tags": []
          },
          "execution_count": 41
        }
      ]
    },
    {
      "cell_type": "markdown",
      "metadata": {
        "id": "sKhlgLby7kLp"
      },
      "source": [
        "> 모든 행마다 한 열씩 걸러 구성된 다차원 하위 배열 생성"
      ]
    },
    {
      "cell_type": "code",
      "metadata": {
        "colab": {
          "base_uri": "https://localhost:8080/"
        },
        "id": "qj3cqJsE7yBt",
        "outputId": "9b334dcf-146a-40af-9e93-b2a2b1d415dd"
      },
      "source": [
        "z=np.arange(1, 10).reshape(3, 3)\n",
        "z"
      ],
      "execution_count": 42,
      "outputs": [
        {
          "output_type": "execute_result",
          "data": {
            "text/plain": [
              "array([[1, 2, 3],\n",
              "       [4, 5, 6],\n",
              "       [7, 8, 9]])"
            ]
          },
          "metadata": {
            "tags": []
          },
          "execution_count": 42
        }
      ]
    },
    {
      "cell_type": "markdown",
      "metadata": {
        "id": "74wxRXn574D6"
      },
      "source": [
        "> 배열의 형상을 변경\n",
        "\n",
        "<br>\n",
        "\n",
        "7) 배열 결합\n",
        "- concatenate, vstack, hstatrck"
      ]
    },
    {
      "cell_type": "code",
      "metadata": {
        "colab": {
          "base_uri": "https://localhost:8080/"
        },
        "id": "3hP06WqV79KK",
        "outputId": "d4999267-e080-4156-9e15-a837e0ccfa0f"
      },
      "source": [
        "x=np.array([1, 2, 3])\n",
        "y=np.array([3, 2, 1])\n",
        "z=np.concatenate([x,y])\n",
        "z"
      ],
      "execution_count": 43,
      "outputs": [
        {
          "output_type": "execute_result",
          "data": {
            "text/plain": [
              "array([1, 2, 3, 3, 2, 1])"
            ]
          },
          "metadata": {
            "tags": []
          },
          "execution_count": 43
        }
      ]
    },
    {
      "cell_type": "markdown",
      "metadata": {
        "id": "PFhp2FXd8UkZ"
      },
      "source": [
        "  * vstack: 수직스택\n",
        "  *  hstatrck: 수평스택"
      ]
    },
    {
      "cell_type": "code",
      "metadata": {
        "colab": {
          "base_uri": "https://localhost:8080/"
        },
        "id": "ae7rH0md8gh1",
        "outputId": "efb468b2-a108-4ce2-ba53-9fb338eb9c5b"
      },
      "source": [
        "x=np.array([1, 2, 3])\n",
        "grid=np.array([[4, 5, 6], [7, 8, 9]])\n",
        "v=np.vstack([x, grid])\n",
        "v"
      ],
      "execution_count": 45,
      "outputs": [
        {
          "output_type": "execute_result",
          "data": {
            "text/plain": [
              "array([[1, 2, 3],\n",
              "       [4, 5, 6],\n",
              "       [7, 8, 9]])"
            ]
          },
          "metadata": {
            "tags": []
          },
          "execution_count": 45
        }
      ]
    },
    {
      "cell_type": "markdown",
      "metadata": {
        "id": "ztpYEHBx8_nm"
      },
      "source": [
        "8) 배열 분할\n",
        "- split, vsplit, hsplit"
      ]
    },
    {
      "cell_type": "code",
      "metadata": {
        "colab": {
          "base_uri": "https://localhost:8080/"
        },
        "id": "QKoXc7zj9LyP",
        "outputId": "b9fae880-5432-42ff-b539-134f4cf2d3f6"
      },
      "source": [
        "x= [1, 2, 3, 77, 77, 3, 2, 1]\n",
        "x1, x2, x3 = np.split(x,[3, 5])\n",
        "print(x1, x2, x3)"
      ],
      "execution_count": 47,
      "outputs": [
        {
          "output_type": "stream",
          "text": [
            "[1 2 3] [77 77] [3 2 1]\n"
          ],
          "name": "stdout"
        }
      ]
    },
    {
      "cell_type": "code",
      "metadata": {
        "colab": {
          "base_uri": "https://localhost:8080/"
        },
        "id": "sCFIuuy59ZPT",
        "outputId": "aab63ecb-3c2c-4efc-db18-2f54cc628b85"
      },
      "source": [
        "grid = np.arange(16).reshape((4, 4))\n",
        "upper, lower=np.vsplit(grid, [2])\n",
        "print(upper)\n",
        "print(lower)"
      ],
      "execution_count": 48,
      "outputs": [
        {
          "output_type": "stream",
          "text": [
            "[[0 1 2 3]\n",
            " [4 5 6 7]]\n",
            "[[ 8  9 10 11]\n",
            " [12 13 14 15]]\n"
          ],
          "name": "stdout"
        }
      ]
    },
    {
      "cell_type": "code",
      "metadata": {
        "colab": {
          "base_uri": "https://localhost:8080/"
        },
        "id": "aViYoZO_9n-v",
        "outputId": "1a81f32f-08e5-4b8d-d891-dc865aff10b5"
      },
      "source": [
        "grid = np.arange(16).reshape((4, 4))\n",
        "left, right=np.hsplit(grid, [2])\n",
        "print(left)\n",
        "print(right)"
      ],
      "execution_count": 49,
      "outputs": [
        {
          "output_type": "stream",
          "text": [
            "[[ 0  1]\n",
            " [ 4  5]\n",
            " [ 8  9]\n",
            " [12 13]]\n",
            "[[ 2  3]\n",
            " [ 6  7]\n",
            " [10 11]\n",
            " [14 15]]\n"
          ],
          "name": "stdout"
        }
      ]
    },
    {
      "cell_type": "markdown",
      "metadata": {
        "id": "GhIIDM1l9xCa"
      },
      "source": [
        "> grid 배열이 좌우 2개로 나뉨뉨"
      ]
    }
  ]
}