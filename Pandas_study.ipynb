{
  "nbformat": 4,
  "nbformat_minor": 0,
  "metadata": {
    "colab": {
      "name": "Pandas_study.ipynb",
      "provenance": [],
      "collapsed_sections": [],
      "authorship_tag": "ABX9TyPkGtVlj3KR5Jm9hYrx3GTF",
      "include_colab_link": true
    },
    "kernelspec": {
      "name": "python3",
      "display_name": "Python 3"
    },
    "language_info": {
      "name": "python"
    }
  },
  "cells": [
    {
      "cell_type": "markdown",
      "metadata": {
        "id": "view-in-github",
        "colab_type": "text"
      },
      "source": [
        "<a href=\"https://colab.research.google.com/github/yuna778/DALC_Scala/blob/main/Pandas_study.ipynb\" target=\"_parent\"><img src=\"https://colab.research.google.com/assets/colab-badge.svg\" alt=\"Open In Colab\"/></a>"
      ]
    },
    {
      "cell_type": "markdown",
      "metadata": {
        "id": "-fMf4hfZJ0hh"
      },
      "source": [
        "# Pandas 기초 및 실습\n",
        "### 2. Pandas의 사용법\n",
        "</br>\n",
        "\n",
        "##### 1) Pandas 설치\n",
        "* Pandas 개요\n",
        "  * 1) 정의\n",
        "    * 데이터의 형태와 속성이 다양\n",
        "    * 다양한 데이터를 일관성 있게 동일한 형태로 통합 필요\n",
        "    * Pandas 라이브러리\n",
        "  * 2) 특징\n",
        "    * 서로 다은 유형의 데이터를 공통의 형식으로 정리\n",
        "    * 1차원 배열인 Series, 2차원 배열인 DataFrame 제공\n",
        "    * 고수준의 연산 수행 가능"
      ]
    },
    {
      "cell_type": "markdown",
      "metadata": {
        "id": "oqQLQZOyLaMw"
      },
      "source": [
        "* Pandas 임포트 및 버전 확인"
      ]
    },
    {
      "cell_type": "code",
      "metadata": {
        "colab": {
          "base_uri": "https://localhost:8080/",
          "height": 36
        },
        "id": "sI8BdzvTLgUh",
        "outputId": "8a378ee1-4ac4-4648-81f3-f12162bbaae2"
      },
      "source": [
        "import pandas\n",
        "pandas.__version__"
      ],
      "execution_count": 1,
      "outputs": [
        {
          "output_type": "execute_result",
          "data": {
            "application/vnd.google.colaboratory.intrinsic+json": {
              "type": "string"
            },
            "text/plain": [
              "'1.1.5'"
            ]
          },
          "metadata": {
            "tags": []
          },
          "execution_count": 1
        }
      ]
    },
    {
      "cell_type": "code",
      "metadata": {
        "id": "IujKL2A9LsXW"
      },
      "source": [
        "import numpy as np\n",
        "import pandas as pd"
      ],
      "execution_count": 2,
      "outputs": []
    },
    {
      "cell_type": "markdown",
      "metadata": {
        "id": "3qyBRKH9L15j"
      },
      "source": [
        "##### 2) Pandas 객체\n",
        "\n",
        "\n",
        "* Series와 DataFrame의 구조\n",
        "\n",
        "\n",
        "* Series 구조\n",
        "</br>![시리즈 구조](https://ifh.cc/g/sSKUKR.jpg)\n",
        "</br>\n",
        "\n",
        "* DataFrame 구조\n",
        "</br>![데이터프레임 구조](https://ifh.cc/g/4NQlOK.jpg)\n",
        "  * 통합 인덱싱을 활용하여 데이터 조작 가능\n",
        "\n",
        "</br>\n",
        "\n",
        "##### 3) Series\n",
        "* 리스트를 인자로 사용하여 시리즈 객체 생성"
      ]
    },
    {
      "cell_type": "code",
      "metadata": {
        "colab": {
          "base_uri": "https://localhost:8080/"
        },
        "id": "MJKNMYb5MJRb",
        "outputId": "b208cdd1-061b-4247-d009-c84394a34cfb"
      },
      "source": [
        "data = pd.Series([0.25, 0.5, 0.75, 1.0])\n",
        "data"
      ],
      "execution_count": 3,
      "outputs": [
        {
          "output_type": "execute_result",
          "data": {
            "text/plain": [
              "0    0.25\n",
              "1    0.50\n",
              "2    0.75\n",
              "3    1.00\n",
              "dtype: float64"
            ]
          },
          "metadata": {
            "tags": []
          },
          "execution_count": 3
        }
      ]
    },
    {
      "cell_type": "markdown",
      "metadata": {
        "id": "boUm62bYNcdm"
      },
      "source": [
        "  * values으로 접근 가능"
      ]
    },
    {
      "cell_type": "code",
      "metadata": {
        "colab": {
          "base_uri": "https://localhost:8080/"
        },
        "id": "GnBw8LJdNeog",
        "outputId": "58d27d81-ae18-4426-dfd4-b9681b12ea5b"
      },
      "source": [
        "data.values"
      ],
      "execution_count": 4,
      "outputs": [
        {
          "output_type": "execute_result",
          "data": {
            "text/plain": [
              "array([0.25, 0.5 , 0.75, 1.  ])"
            ]
          },
          "metadata": {
            "tags": []
          },
          "execution_count": 4
        }
      ]
    },
    {
      "cell_type": "markdown",
      "metadata": {
        "id": "Dfe7SaLLNjL6"
      },
      "source": [
        "  * index 속성으로 접근 가능"
      ]
    },
    {
      "cell_type": "code",
      "metadata": {
        "colab": {
          "base_uri": "https://localhost:8080/"
        },
        "id": "H7TOT6uaNkcG",
        "outputId": "cc50d5ea-ca0a-4436-8512-d49926ad662a"
      },
      "source": [
        "data.index"
      ],
      "execution_count": 5,
      "outputs": [
        {
          "output_type": "execute_result",
          "data": {
            "text/plain": [
              "RangeIndex(start=0, stop=4, step=1)"
            ]
          },
          "metadata": {
            "tags": []
          },
          "execution_count": 5
        }
      ]
    },
    {
      "cell_type": "markdown",
      "metadata": {
        "id": "f9TydMaQNmct"
      },
      "source": [
        "* 파이썬 대괄호 표기법을 통해 접근 가능"
      ]
    },
    {
      "cell_type": "code",
      "metadata": {
        "colab": {
          "base_uri": "https://localhost:8080/"
        },
        "id": "X14xTBvWNoc5",
        "outputId": "76d354a8-9631-4dc0-db8a-7d0a1dbff90d"
      },
      "source": [
        "data[1]"
      ],
      "execution_count": 6,
      "outputs": [
        {
          "output_type": "execute_result",
          "data": {
            "text/plain": [
              "0.5"
            ]
          },
          "metadata": {
            "tags": []
          },
          "execution_count": 6
        }
      ]
    },
    {
      "cell_type": "markdown",
      "metadata": {
        "id": "EPiM5a2VNryd"
      },
      "source": [
        "- 인덱스와 슬라이싱 방식 사용"
      ]
    },
    {
      "cell_type": "code",
      "metadata": {
        "id": "VlQZOCs2NtED"
      },
      "source": [
        "data[1:3]"
      ],
      "execution_count": null,
      "outputs": []
    },
    {
      "cell_type": "markdown",
      "metadata": {
        "id": "qF09-vE-Nusc"
      },
      "source": [
        "* Index\n",
        "  * 정수일 필요가 없으며 어떤 타입의 값으로도 구성 가능\n",
        "  * 인덱스로 문자열 사용 가능"
      ]
    },
    {
      "cell_type": "code",
      "metadata": {
        "id": "iFlJV4WAOHrG"
      },
      "source": [
        "data = pd.Series([0.25, 0.5, 0.75, 1.0], index=['a', 'b', 'c', 'd'])\n",
        "data"
      ],
      "execution_count": null,
      "outputs": []
    },
    {
      "cell_type": "markdown",
      "metadata": {
        "id": "0na7XpRUOIY6"
      },
      "source": [
        "  * 문자열 인덱스로 항목에 접근 가능"
      ]
    },
    {
      "cell_type": "code",
      "metadata": {
        "colab": {
          "base_uri": "https://localhost:8080/"
        },
        "id": "5D0Jx9QCOZHT",
        "outputId": "9da44abf-f2c5-4f8f-d25e-1582429f496c"
      },
      "source": [
        "data = pd.Series([0.25, 0.5, 0.75, 1.0], index=['a', 'b', 'c', 'd'])\n",
        "data['a']"
      ],
      "execution_count": 11,
      "outputs": [
        {
          "output_type": "execute_result",
          "data": {
            "text/plain": [
              "0.25"
            ]
          },
          "metadata": {
            "tags": []
          },
          "execution_count": 11
        }
      ]
    },
    {
      "cell_type": "markdown",
      "metadata": {
        "id": "V_aABH_DO1XA"
      },
      "source": [
        "* 인접하지 않거나 연속적이지 않은 인덱스를 사용하여 임의로 만들 수 있음"
      ]
    },
    {
      "cell_type": "code",
      "metadata": {
        "colab": {
          "base_uri": "https://localhost:8080/"
        },
        "id": "AYuTta-vO3cJ",
        "outputId": "305fb7b7-3eec-4906-ab18-9af633e85a20"
      },
      "source": [
        "data = pd.Series([0.25, 0.5, 0.75, 1.0], index=[2, 5, 3, 7])\n",
        "data"
      ],
      "execution_count": 12,
      "outputs": [
        {
          "output_type": "execute_result",
          "data": {
            "text/plain": [
              "2    0.25\n",
              "5    0.50\n",
              "3    0.75\n",
              "7    1.00\n",
              "dtype: float64"
            ]
          },
          "metadata": {
            "tags": []
          },
          "execution_count": 12
        }
      ]
    },
    {
      "cell_type": "code",
      "metadata": {
        "colab": {
          "base_uri": "https://localhost:8080/"
        },
        "id": "m5hyLtzWO9EK",
        "outputId": "72070710-b9ac-4a00-be1d-f25f7d18aa75"
      },
      "source": [
        "data[5]"
      ],
      "execution_count": 13,
      "outputs": [
        {
          "output_type": "execute_result",
          "data": {
            "text/plain": [
              "0.5"
            ]
          },
          "metadata": {
            "tags": []
          },
          "execution_count": 13
        }
      ]
    },
    {
      "cell_type": "markdown",
      "metadata": {
        "id": "-PqUXnP6PAth"
      },
      "source": [
        "* 딕셔너리 구조\n",
        " * 일련의 임의의 값에 임의의 키를 매핑하는 구조\n",
        " * 타입이 지정된 키를 일련의 타입이 지정된 값에 매핑하는 구조\n",
        "\n",
        "</br>\n",
        "\n",
        "![딕셔너리 구조](https://ifh.cc/g/FWVyhm.jpg)\n",
        "- 딕셔너리 키(k)는 Series의 __인덱스__로 대응\n",
        "- 딕셔너리 값(v)는 Series의 __데이터 값__으로 변환\n",
        "\n",
        "</br>\n",
        "\n",
        "* 딕셔너리로부터 시리즈를 만드는 예"
      ]
    },
    {
      "cell_type": "code",
      "metadata": {
        "colab": {
          "base_uri": "https://localhost:8080/"
        },
        "id": "YeCLTSyQPLzQ",
        "outputId": "cf2522d9-6ef0-4353-966a-aebef17ed2ca"
      },
      "source": [
        "population_dict = {'California': 38332521, 'Texas': 26448393, 'New York': 19651127, 'Florida': 19552860, 'lllinois': 12882135}\n"
      ],
      "execution_count": 15,
      "outputs": [
        {
          "output_type": "execute_result",
          "data": {
            "text/plain": [
              "California    38332521\n",
              "Texas         26448393\n",
              "New York      19651127\n",
              "Florida       19552860\n",
              "lllinois      12882135\n",
              "dtype: int64"
            ]
          },
          "metadata": {
            "tags": []
          },
          "execution_count": 15
        }
      ]
    },
    {
      "cell_type": "markdown",
      "metadata": {
        "id": "S6s5SVwcPQAK"
      },
      "source": [
        "* 딕셔너리 정의 = {'키 값': value}\n"
      ]
    },
    {
      "cell_type": "code",
      "metadata": {
        "colab": {
          "base_uri": "https://localhost:8080/"
        },
        "id": "DYtAL7b-PRb7",
        "outputId": "a320eb32-35ef-4d7a-cbbc-42e26d318ec0"
      },
      "source": [
        "population = pd.Series(population_dict)\n",
        "population"
      ],
      "execution_count": 16,
      "outputs": [
        {
          "output_type": "execute_result",
          "data": {
            "text/plain": [
              "California    38332521\n",
              "Texas         26448393\n",
              "New York      19651127\n",
              "Florida       19552860\n",
              "lllinois      12882135\n",
              "dtype: int64"
            ]
          },
          "metadata": {
            "tags": []
          },
          "execution_count": 16
        }
      ]
    },
    {
      "cell_type": "markdown",
      "metadata": {
        "id": "87_UbQJMPSsJ"
      },
      "source": [
        "* 인덱스가 정렬된 키에서 추출되는 경우 값을 불러옴"
      ]
    },
    {
      "cell_type": "code",
      "metadata": {
        "colab": {
          "base_uri": "https://localhost:8080/"
        },
        "id": "EdkkH_PvPUsJ",
        "outputId": "e679f9ac-ec23-4bb0-8733-46ae7fd202cb"
      },
      "source": [
        "population['California']"
      ],
      "execution_count": 17,
      "outputs": [
        {
          "output_type": "execute_result",
          "data": {
            "text/plain": [
              "38332521"
            ]
          },
          "metadata": {
            "tags": []
          },
          "execution_count": 17
        }
      ]
    },
    {
      "cell_type": "markdown",
      "metadata": {
        "id": "j0dU1yw7PWQt"
      },
      "source": [
        "* 슬라이싱 같이 배열 스타일의 연산 지원"
      ]
    },
    {
      "cell_type": "code",
      "metadata": {
        "colab": {
          "base_uri": "https://localhost:8080/"
        },
        "id": "5hp-wseaPZ74",
        "outputId": "939d6953-5a1e-43a4-c68f-cc9d8e23feb2"
      },
      "source": [
        "population['California' : 'lllinois']"
      ],
      "execution_count": 23,
      "outputs": [
        {
          "output_type": "execute_result",
          "data": {
            "text/plain": [
              "California    38332521\n",
              "Texas         26448393\n",
              "New York      19651127\n",
              "Florida       19552860\n",
              "lllinois      12882135\n",
              "dtype: int64"
            ]
          },
          "metadata": {
            "tags": []
          },
          "execution_count": 23
        }
      ]
    },
    {
      "cell_type": "markdown",
      "metadata": {
        "id": "3AGDR_pfP-nm"
      },
      "source": [
        "* 객체 구성하기\n",
        " * pd.Series(data, index=index)\n",
        "   * index는 옵션이기 때문에 생략 가능  \n",
        "   기본값 : 0부터 연속된 정수수\n",
        " * data: 리스트 혹은 Numpy 배열, index: 생략 가능\n",
        "    * pd.Series([2, 4, 6])"
      ]
    },
    {
      "cell_type": "code",
      "metadata": {
        "colab": {
          "base_uri": "https://localhost:8080/"
        },
        "id": "7-NU9jQIQNxo",
        "outputId": "3e122841-81fc-46bf-e84d-979bb6844139"
      },
      "source": [
        "pd.Series(5, index=[100, 200, 300])"
      ],
      "execution_count": 24,
      "outputs": [
        {
          "output_type": "execute_result",
          "data": {
            "text/plain": [
              "100    5\n",
              "200    5\n",
              "300    5\n",
              "dtype: int64"
            ]
          },
          "metadata": {
            "tags": []
          },
          "execution_count": 24
        }
      ]
    },
    {
      "cell_type": "markdown",
      "metadata": {
        "id": "c-Wzc-ZRQQhz"
      },
      "source": [
        "* Data가 딕셔너리일 경우에는 기본적으로 딕셔너리 키로 정렬해서 취함"
      ]
    },
    {
      "cell_type": "code",
      "metadata": {
        "colab": {
          "base_uri": "https://localhost:8080/"
        },
        "id": "2vIQsU6jQRm5",
        "outputId": "218838b7-8107-4a66-d831-1cb4e9e7647c"
      },
      "source": [
        "dic_data = {2:'a', 1:'b', 3:'c'}\n",
        "dic_data"
      ],
      "execution_count": 25,
      "outputs": [
        {
          "output_type": "execute_result",
          "data": {
            "text/plain": [
              "{1: 'b', 2: 'a', 3: 'c'}"
            ]
          },
          "metadata": {
            "tags": []
          },
          "execution_count": 25
        }
      ]
    },
    {
      "cell_type": "markdown",
      "metadata": {
        "id": "8iEr1lyiQU1H"
      },
      "source": [
        "* Series 객체는 요소 값들이 입력된 순서대로 출력"
      ]
    },
    {
      "cell_type": "code",
      "metadata": {
        "colab": {
          "base_uri": "https://localhost:8080/"
        },
        "id": "30T2xxT8QVgI",
        "outputId": "f75f4695-f8ee-4bfb-f3a8-0942a7826720"
      },
      "source": [
        "pd.Series({2:'a', 1:'b', 3:'c'})"
      ],
      "execution_count": 26,
      "outputs": [
        {
          "output_type": "execute_result",
          "data": {
            "text/plain": [
              "2    a\n",
              "1    b\n",
              "3    c\n",
              "dtype: object"
            ]
          },
          "metadata": {
            "tags": []
          },
          "execution_count": 26
        }
      ]
    },
    {
      "cell_type": "markdown",
      "metadata": {
        "id": "MzQnqs8hQYYk"
      },
      "source": [
        "* 각각 다른 결과를 얻고 싶으면 인덱스를 명시적으로 설정"
      ]
    },
    {
      "cell_type": "code",
      "metadata": {
        "colab": {
          "base_uri": "https://localhost:8080/"
        },
        "id": "OU8n3kONQZGh",
        "outputId": "9d8b4301-53bb-48b4-f221-1d662e7cd8c1"
      },
      "source": [
        "pd.Series({2:'a', 1:'b', 3:'c'}, index=[3,2])"
      ],
      "execution_count": 27,
      "outputs": [
        {
          "output_type": "execute_result",
          "data": {
            "text/plain": [
              "3    c\n",
              "2    a\n",
              "dtype: object"
            ]
          },
          "metadata": {
            "tags": []
          },
          "execution_count": 27
        }
      ]
    },
    {
      "cell_type": "markdown",
      "metadata": {
        "id": "D6P2oS_GQazU"
      },
      "source": [
        "##### 3) DataFrame\n",
        "</br>\n",
        "\n",
        "* 구성 방법\n",
        "</br>\n",
        "\n",
        "![데이터프레임 구조](https://ifh.cc/g/bsUOac.jpg)\n",
        "  * 열 인덱스 : 열 이름\n",
        "  * 데이터프레임 : 행 인덱스와 열 이름을 갖는 행렬 = __Series 객체의 연속__"
      ]
    },
    {
      "cell_type": "code",
      "metadata": {
        "colab": {
          "base_uri": "https://localhost:8080/"
        },
        "id": "dhJZOBiwQicq",
        "outputId": "26781676-4c98-44e1-a6fb-ec3e2d8702a9"
      },
      "source": [
        "area_dict = {'California': 423967, 'Texas': 695662, 'New York': 141297, 'Florida': 170312, 'lllinois': 149995}\n",
        "area = pd.Series(area_dict)\n",
        "area"
      ],
      "execution_count": 28,
      "outputs": [
        {
          "output_type": "execute_result",
          "data": {
            "text/plain": [
              "California    423967\n",
              "Texas         695662\n",
              "New York      141297\n",
              "Florida       170312\n",
              "lllinois      149995\n",
              "dtype: int64"
            ]
          },
          "metadata": {
            "tags": []
          },
          "execution_count": 28
        }
      ]
    },
    {
      "cell_type": "markdown",
      "metadata": {
        "id": "2rypg4jdQkfR"
      },
      "source": [
        "* DataFrame stated"
      ]
    },
    {
      "cell_type": "code",
      "metadata": {
        "colab": {
          "base_uri": "https://localhost:8080/",
          "height": 202
        },
        "id": "Sh2QlWi8QmPO",
        "outputId": "58e2cd44-f35c-4209-941e-8fd0cb9c23a1"
      },
      "source": [
        "states = pd.DataFrame({'population': population, 'area': area})\n",
        "states"
      ],
      "execution_count": 29,
      "outputs": [
        {
          "output_type": "execute_result",
          "data": {
            "text/html": [
              "<div>\n",
              "<style scoped>\n",
              "    .dataframe tbody tr th:only-of-type {\n",
              "        vertical-align: middle;\n",
              "    }\n",
              "\n",
              "    .dataframe tbody tr th {\n",
              "        vertical-align: top;\n",
              "    }\n",
              "\n",
              "    .dataframe thead th {\n",
              "        text-align: right;\n",
              "    }\n",
              "</style>\n",
              "<table border=\"1\" class=\"dataframe\">\n",
              "  <thead>\n",
              "    <tr style=\"text-align: right;\">\n",
              "      <th></th>\n",
              "      <th>population</th>\n",
              "      <th>area</th>\n",
              "    </tr>\n",
              "  </thead>\n",
              "  <tbody>\n",
              "    <tr>\n",
              "      <th>California</th>\n",
              "      <td>38332521</td>\n",
              "      <td>423967</td>\n",
              "    </tr>\n",
              "    <tr>\n",
              "      <th>Texas</th>\n",
              "      <td>26448393</td>\n",
              "      <td>695662</td>\n",
              "    </tr>\n",
              "    <tr>\n",
              "      <th>New York</th>\n",
              "      <td>19651127</td>\n",
              "      <td>141297</td>\n",
              "    </tr>\n",
              "    <tr>\n",
              "      <th>Florida</th>\n",
              "      <td>19552860</td>\n",
              "      <td>170312</td>\n",
              "    </tr>\n",
              "    <tr>\n",
              "      <th>lllinois</th>\n",
              "      <td>12882135</td>\n",
              "      <td>149995</td>\n",
              "    </tr>\n",
              "  </tbody>\n",
              "</table>\n",
              "</div>"
            ],
            "text/plain": [
              "            population    area\n",
              "California    38332521  423967\n",
              "Texas         26448393  695662\n",
              "New York      19651127  141297\n",
              "Florida       19552860  170312\n",
              "lllinois      12882135  149995"
            ]
          },
          "metadata": {
            "tags": []
          },
          "execution_count": 29
        }
      ]
    },
    {
      "cell_type": "markdown",
      "metadata": {
        "id": "Qts8OysQQpja"
      },
      "source": [
        "* 인덱스 라벨을 이용하여 요솟값에 접근할 수 있는 index 속성을 가짐"
      ]
    },
    {
      "cell_type": "code",
      "metadata": {
        "colab": {
          "base_uri": "https://localhost:8080/"
        },
        "id": "ZiVQiCuyQqRQ",
        "outputId": "4096e481-e9a3-406e-e72a-e289bbaf7f46"
      },
      "source": [
        "states.index"
      ],
      "execution_count": 30,
      "outputs": [
        {
          "output_type": "execute_result",
          "data": {
            "text/plain": [
              "Index(['California', 'Texas', 'New York', 'Florida', 'lllinois'], dtype='object')"
            ]
          },
          "metadata": {
            "tags": []
          },
          "execution_count": 30
        }
      ]
    },
    {
      "cell_type": "markdown",
      "metadata": {
        "id": "vBNMvhQ-QsRp"
      },
      "source": [
        "* 열 라벨을 나타내는 index 객체인 columns 속성도 가짐"
      ]
    },
    {
      "cell_type": "code",
      "metadata": {
        "colab": {
          "base_uri": "https://localhost:8080/"
        },
        "id": "3ZRvCIpYQry1",
        "outputId": "d7c47a69-3f8a-4f55-d7cf-d3f22b5ec25f"
      },
      "source": [
        "states.columns"
      ],
      "execution_count": 31,
      "outputs": [
        {
          "output_type": "execute_result",
          "data": {
            "text/plain": [
              "Index(['population', 'area'], dtype='object')"
            ]
          },
          "metadata": {
            "tags": []
          },
          "execution_count": 31
        }
      ]
    },
    {
      "cell_type": "markdown",
      "metadata": {
        "id": "Qf580u9eQyZ6"
      },
      "source": [
        "* 열 이름을 인덱스로 지정하면 열 데이터로 이루어진 Series에 매핑"
      ]
    },
    {
      "cell_type": "code",
      "metadata": {
        "colab": {
          "base_uri": "https://localhost:8080/"
        },
        "id": "YmC9TdN4QzRL",
        "outputId": "0fbdaf0a-3fef-4792-c9ea-f6c09d9fd883"
      },
      "source": [
        "states['area']"
      ],
      "execution_count": 32,
      "outputs": [
        {
          "output_type": "execute_result",
          "data": {
            "text/plain": [
              "California    423967\n",
              "Texas         695662\n",
              "New York      141297\n",
              "Florida       170312\n",
              "lllinois      149995\n",
              "Name: area, dtype: int64"
            ]
          },
          "metadata": {
            "tags": []
          },
          "execution_count": 32
        }
      ]
    },
    {
      "cell_type": "markdown",
      "metadata": {
        "id": "HcwSHswuQ2EB"
      },
      "source": [
        "* 데이터 구성하기\n",
        "  * 단일 Series로부터 DataFrame 구성 가능\n"
      ]
    },
    {
      "cell_type": "code",
      "metadata": {
        "colab": {
          "base_uri": "https://localhost:8080/",
          "height": 202
        },
        "id": "HXvRRcekQ9Sv",
        "outputId": "e3860672-7085-4c7b-a7ba-39ad48f91f69"
      },
      "source": [
        "pd.DataFrame(population, columns=['population'])"
      ],
      "execution_count": 33,
      "outputs": [
        {
          "output_type": "execute_result",
          "data": {
            "text/html": [
              "<div>\n",
              "<style scoped>\n",
              "    .dataframe tbody tr th:only-of-type {\n",
              "        vertical-align: middle;\n",
              "    }\n",
              "\n",
              "    .dataframe tbody tr th {\n",
              "        vertical-align: top;\n",
              "    }\n",
              "\n",
              "    .dataframe thead th {\n",
              "        text-align: right;\n",
              "    }\n",
              "</style>\n",
              "<table border=\"1\" class=\"dataframe\">\n",
              "  <thead>\n",
              "    <tr style=\"text-align: right;\">\n",
              "      <th></th>\n",
              "      <th>population</th>\n",
              "    </tr>\n",
              "  </thead>\n",
              "  <tbody>\n",
              "    <tr>\n",
              "      <th>California</th>\n",
              "      <td>38332521</td>\n",
              "    </tr>\n",
              "    <tr>\n",
              "      <th>Texas</th>\n",
              "      <td>26448393</td>\n",
              "    </tr>\n",
              "    <tr>\n",
              "      <th>New York</th>\n",
              "      <td>19651127</td>\n",
              "    </tr>\n",
              "    <tr>\n",
              "      <th>Florida</th>\n",
              "      <td>19552860</td>\n",
              "    </tr>\n",
              "    <tr>\n",
              "      <th>lllinois</th>\n",
              "      <td>12882135</td>\n",
              "    </tr>\n",
              "  </tbody>\n",
              "</table>\n",
              "</div>"
            ],
            "text/plain": [
              "            population\n",
              "California    38332521\n",
              "Texas         26448393\n",
              "New York      19651127\n",
              "Florida       19552860\n",
              "lllinois      12882135"
            ]
          },
          "metadata": {
            "tags": []
          },
          "execution_count": 33
        }
      ]
    },
    {
      "cell_type": "code",
      "metadata": {
        "colab": {
          "base_uri": "https://localhost:8080/",
          "height": 79
        },
        "id": "v52A2ZNDRASo",
        "outputId": "c3327899-e66b-4711-962c-4bc5ded2b382"
      },
      "source": [
        "pd.DataFrame(population, index=['Texas'], columns=['population'])"
      ],
      "execution_count": 34,
      "outputs": [
        {
          "output_type": "execute_result",
          "data": {
            "text/html": [
              "<div>\n",
              "<style scoped>\n",
              "    .dataframe tbody tr th:only-of-type {\n",
              "        vertical-align: middle;\n",
              "    }\n",
              "\n",
              "    .dataframe tbody tr th {\n",
              "        vertical-align: top;\n",
              "    }\n",
              "\n",
              "    .dataframe thead th {\n",
              "        text-align: right;\n",
              "    }\n",
              "</style>\n",
              "<table border=\"1\" class=\"dataframe\">\n",
              "  <thead>\n",
              "    <tr style=\"text-align: right;\">\n",
              "      <th></th>\n",
              "      <th>population</th>\n",
              "    </tr>\n",
              "  </thead>\n",
              "  <tbody>\n",
              "    <tr>\n",
              "      <th>Texas</th>\n",
              "      <td>26448393</td>\n",
              "    </tr>\n",
              "  </tbody>\n",
              "</table>\n",
              "</div>"
            ],
            "text/plain": [
              "       population\n",
              "Texas    26448393"
            ]
          },
          "metadata": {
            "tags": []
          },
          "execution_count": 34
        }
      ]
    },
    {
      "cell_type": "markdown",
      "metadata": {
        "id": "LAjfdXq2Q4D7"
      },
      "source": [
        "* 누락된 자리는 NaN(not a number) 값으로 채움"
      ]
    },
    {
      "cell_type": "code",
      "metadata": {
        "colab": {
          "base_uri": "https://localhost:8080/",
          "height": 110
        },
        "id": "PSujwlx0RETg",
        "outputId": "6e276fd4-47dd-4b24-84f1-dc8da2799368"
      },
      "source": [
        "pd.DataFrame([{'a': 1, 'b': 2,}, {'b': 3, 'c': 4}])"
      ],
      "execution_count": 35,
      "outputs": [
        {
          "output_type": "execute_result",
          "data": {
            "text/html": [
              "<div>\n",
              "<style scoped>\n",
              "    .dataframe tbody tr th:only-of-type {\n",
              "        vertical-align: middle;\n",
              "    }\n",
              "\n",
              "    .dataframe tbody tr th {\n",
              "        vertical-align: top;\n",
              "    }\n",
              "\n",
              "    .dataframe thead th {\n",
              "        text-align: right;\n",
              "    }\n",
              "</style>\n",
              "<table border=\"1\" class=\"dataframe\">\n",
              "  <thead>\n",
              "    <tr style=\"text-align: right;\">\n",
              "      <th></th>\n",
              "      <th>a</th>\n",
              "      <th>b</th>\n",
              "      <th>c</th>\n",
              "    </tr>\n",
              "  </thead>\n",
              "  <tbody>\n",
              "    <tr>\n",
              "      <th>0</th>\n",
              "      <td>1.0</td>\n",
              "      <td>2</td>\n",
              "      <td>NaN</td>\n",
              "    </tr>\n",
              "    <tr>\n",
              "      <th>1</th>\n",
              "      <td>NaN</td>\n",
              "      <td>3</td>\n",
              "      <td>4.0</td>\n",
              "    </tr>\n",
              "  </tbody>\n",
              "</table>\n",
              "</div>"
            ],
            "text/plain": [
              "     a  b    c\n",
              "0  1.0  2  NaN\n",
              "1  NaN  3  4.0"
            ]
          },
          "metadata": {
            "tags": []
          },
          "execution_count": 35
        }
      ]
    },
    {
      "cell_type": "markdown",
      "metadata": {
        "id": "yKpD8BdpRGmA"
      },
      "source": [
        "* 여러 개의 Series 객체로부터 DataFrame 구성 가능"
      ]
    },
    {
      "cell_type": "code",
      "metadata": {
        "colab": {
          "base_uri": "https://localhost:8080/",
          "height": 202
        },
        "id": "otZMLC_FRIvt",
        "outputId": "bd5a19f1-0537-4811-b05a-65f6a794b217"
      },
      "source": [
        "pd.DataFrame({'population': population, 'area': area})"
      ],
      "execution_count": 36,
      "outputs": [
        {
          "output_type": "execute_result",
          "data": {
            "text/html": [
              "<div>\n",
              "<style scoped>\n",
              "    .dataframe tbody tr th:only-of-type {\n",
              "        vertical-align: middle;\n",
              "    }\n",
              "\n",
              "    .dataframe tbody tr th {\n",
              "        vertical-align: top;\n",
              "    }\n",
              "\n",
              "    .dataframe thead th {\n",
              "        text-align: right;\n",
              "    }\n",
              "</style>\n",
              "<table border=\"1\" class=\"dataframe\">\n",
              "  <thead>\n",
              "    <tr style=\"text-align: right;\">\n",
              "      <th></th>\n",
              "      <th>population</th>\n",
              "      <th>area</th>\n",
              "    </tr>\n",
              "  </thead>\n",
              "  <tbody>\n",
              "    <tr>\n",
              "      <th>California</th>\n",
              "      <td>38332521</td>\n",
              "      <td>423967</td>\n",
              "    </tr>\n",
              "    <tr>\n",
              "      <th>Texas</th>\n",
              "      <td>26448393</td>\n",
              "      <td>695662</td>\n",
              "    </tr>\n",
              "    <tr>\n",
              "      <th>New York</th>\n",
              "      <td>19651127</td>\n",
              "      <td>141297</td>\n",
              "    </tr>\n",
              "    <tr>\n",
              "      <th>Florida</th>\n",
              "      <td>19552860</td>\n",
              "      <td>170312</td>\n",
              "    </tr>\n",
              "    <tr>\n",
              "      <th>lllinois</th>\n",
              "      <td>12882135</td>\n",
              "      <td>149995</td>\n",
              "    </tr>\n",
              "  </tbody>\n",
              "</table>\n",
              "</div>"
            ],
            "text/plain": [
              "            population    area\n",
              "California    38332521  423967\n",
              "Texas         26448393  695662\n",
              "New York      19651127  141297\n",
              "Florida       19552860  170312\n",
              "lllinois      12882135  149995"
            ]
          },
          "metadata": {
            "tags": []
          },
          "execution_count": 36
        }
      ]
    },
    {
      "cell_type": "markdown",
      "metadata": {
        "id": "KHD2toNTRKn3"
      },
      "source": [
        "* 2차원 배열에 열 이름과 인덱스를 지정하여 DataFrame 생성 가능"
      ]
    },
    {
      "cell_type": "code",
      "metadata": {
        "colab": {
          "base_uri": "https://localhost:8080/",
          "height": 141
        },
        "id": "Ttt1YMPKRNHl",
        "outputId": "f0727b97-263a-4b2c-9e8e-3f698822572f"
      },
      "source": [
        "pd.DataFrame(np.random.rand(3,2), columns=['foo', 'bar'], index=['a', 'b', 'c'])"
      ],
      "execution_count": 37,
      "outputs": [
        {
          "output_type": "execute_result",
          "data": {
            "text/html": [
              "<div>\n",
              "<style scoped>\n",
              "    .dataframe tbody tr th:only-of-type {\n",
              "        vertical-align: middle;\n",
              "    }\n",
              "\n",
              "    .dataframe tbody tr th {\n",
              "        vertical-align: top;\n",
              "    }\n",
              "\n",
              "    .dataframe thead th {\n",
              "        text-align: right;\n",
              "    }\n",
              "</style>\n",
              "<table border=\"1\" class=\"dataframe\">\n",
              "  <thead>\n",
              "    <tr style=\"text-align: right;\">\n",
              "      <th></th>\n",
              "      <th>foo</th>\n",
              "      <th>bar</th>\n",
              "    </tr>\n",
              "  </thead>\n",
              "  <tbody>\n",
              "    <tr>\n",
              "      <th>a</th>\n",
              "      <td>0.514623</td>\n",
              "      <td>0.146593</td>\n",
              "    </tr>\n",
              "    <tr>\n",
              "      <th>b</th>\n",
              "      <td>0.490104</td>\n",
              "      <td>0.601368</td>\n",
              "    </tr>\n",
              "    <tr>\n",
              "      <th>c</th>\n",
              "      <td>0.891765</td>\n",
              "      <td>0.464589</td>\n",
              "    </tr>\n",
              "  </tbody>\n",
              "</table>\n",
              "</div>"
            ],
            "text/plain": [
              "        foo       bar\n",
              "a  0.514623  0.146593\n",
              "b  0.490104  0.601368\n",
              "c  0.891765  0.464589"
            ]
          },
          "metadata": {
            "tags": []
          },
          "execution_count": 37
        }
      ]
    }
  ]
}