{
  "nbformat": 4,
  "nbformat_minor": 0,
  "metadata": {
    "colab": {
      "name": "Colab_실습_자료.ipynb",
      "private_outputs": true,
      "provenance": [],
      "collapsed_sections": []
    },
    "kernelspec": {
      "name": "python3",
      "display_name": "Python 3"
    },
    "accelerator": "GPU"
  },
  "cells": [
    {
      "cell_type": "markdown",
      "metadata": {
        "id": "EWndrTzeEvmT"
      },
      "source": [
        "# Colab 실습 하기\r\n"
      ]
    },
    {
      "cell_type": "code",
      "metadata": {
        "id": "dBiymIoHtl5R"
      },
      "source": [
        "https://github.com/yuna778/DALC_Scala.git"
      ],
      "execution_count": null,
      "outputs": []
    },
    {
      "cell_type": "markdown",
      "metadata": {
        "id": "0WCvBwn1r0r1"
      },
      "source": [
        "# 2.마크다운으로 이미지 삽입하기"
      ]
    },
    {
      "cell_type": "code",
      "metadata": {
        "id": "ivEw7YFet3zA"
      },
      "source": [
        "![강아지](https://s3.ap-northeast-2.amazonaws.com/elasticbeanstalk-ap-northeast-2-176213403491/media/magazine_img/magazine_319/112_%E1%84%8A%E1%85%A5%E1%86%B7%E1%84%82%E1%85%A6%E1%84%8B%E1%85%B5%E1%86%AF.jpg)"
      ],
      "execution_count": null,
      "outputs": []
    },
    {
      "cell_type": "markdown",
      "metadata": {
        "id": "rtnleslqFhT8"
      },
      "source": [
        "## 3. 마크다운으로 수업 배운 것 정리해보기\r\n",
        "- 전공수업, 교양 수업, 오늘 ot내용, 요즘 준비하는 자격증 내용 등등 기타 자기가 최근 배운 것 아무거나 최소 3줄이상 작성해주세요. (이때 단어강조하기, 문장 띄어쓰기, 인용구등 사용하기)\r\n",
        "\r\n",
        "(중간에 사정이 생겨서 나갔는데 너무 불펴했다. 제때 제때 물어볼 수 있는 것이 가장 좋은 것 같다. 후회했다. 어려웠지만 해결해서 정말 다행이였다. 세상에 내가 모르는게 정말 많다고 느껴졌다.)\r\n",
        "\r\n"
      ]
    },
    {
      "cell_type": "code",
      "metadata": {
        "id": "QuWOpjVksbAx"
      },
      "source": [
        "1.OT에 참석하지 못하여 스스로 pdf를 보며 Colab를 익히기 시작했는데, __*런타임 유형을 바꿀 수 없어*__ 당혹스러웠다. </br>\r\n",
        "2.C언어와 html을 배우고 있는데 두 개가 _비슷하면서도 다른 부분_이 있어 아직까지는 조금 헷갈리는 것 같다.</br>\r\n",
        "3.3년만에 다시 스페인어를 배웠는데 guerra를 >>게ㄹ라 라고 읽어야 하는 사실을 다시 알게 되었다. 여전히 헷갈린다.\r\n"
      ],
      "execution_count": null,
      "outputs": []
    }
  ]
}